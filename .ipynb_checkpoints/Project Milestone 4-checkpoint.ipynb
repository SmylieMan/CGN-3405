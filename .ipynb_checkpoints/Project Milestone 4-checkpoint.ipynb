{
 "cells": [
  {
   "cell_type": "code",
   "execution_count": null,
   "metadata": {
    "collapsed": true
   },
   "outputs": [],
   "source": []
  },
  {
   "cell_type": "code",
   "execution_count": null,
   "metadata": {
    "collapsed": true
   },
   "outputs": [],
   "source": []
  },
  {
   "cell_type": "code",
   "execution_count": null,
   "metadata": {
    "collapsed": true
   },
   "outputs": [],
   "source": []
  },
  {
   "cell_type": "code",
   "execution_count": null,
   "metadata": {
    "collapsed": true
   },
   "outputs": [],
   "source": []
  },
  {
   "cell_type": "code",
   "execution_count": 10,
   "metadata": {
    "collapsed": true
   },
   "outputs": [],
   "source": []
  },
  {
   "cell_type": "code",
   "execution_count": 34,
   "metadata": {
    "scrolled": true
   },
   "outputs": [
    {
     "name": "stdout",
     "output_type": "stream",
     "text": [
      "What is the vertical force at point 1?\n",
      "Enter a Number: 10\n",
      "What is the horizontal force at point 1?\n",
      "Enter a Number: 20\n",
      "What is the vertical force at point 2?\n",
      "Enter a Number: 30\n",
      "What is the horizontal force at point 2?\n",
      "Enter a Number: 40\n",
      "What is the vertical force at point 3?\n",
      "Enter a Number: 50\n",
      "What is the horizontal force at point 3?\n",
      "Enter a Number: 60\n",
      "Calculating...\n",
      "[10, 20, 30, 40, 50, 60]\n"
     ]
    }
   ],
   "source": [
    "# Force Data Input #\n",
    "ForceData = []\n",
    "\n",
    "print(\"What is the vertical force at point 1?\")\n",
    "answer = int(input(\"Enter a Number: \")) \n",
    "ForceData.append(answer)\n",
    "\n",
    "print(\"What is the horizontal force at point 1?\")\n",
    "answer = int(input(\"Enter a Number: \")) \n",
    "ForceData.append(answer)\n",
    "\n",
    "print(\"What is the vertical force at point 2?\")\n",
    "answer = int(input(\"Enter a Number: \")) \n",
    "ForceData.append(answer)\n",
    "\n",
    "print(\"What is the horizontal force at point 2?\")\n",
    "answer = int(input(\"Enter a Number: \")) \n",
    "ForceData.append(answer)\n",
    "\n",
    "print(\"What is the vertical force at point 3?\")\n",
    "answer = int(input(\"Enter a Number: \")) \n",
    "ForceData.append(answer)\n",
    "\n",
    "print(\"What is the horizontal force at point 3?\")\n",
    "answer = int(input(\"Enter a Number: \")) \n",
    "ForceData.append(answer)\n",
    "\n",
    "print(\"Calculating...\")\n",
    "\n",
    "print(ForceData)\n"
   ]
  },
  {
   "cell_type": "code",
   "execution_count": 42,
   "metadata": {},
   "outputs": [
    {
     "name": "stdout",
     "output_type": "stream",
     "text": [
      "10\n",
      "20\n",
      "30\n",
      "40\n",
      "50\n",
      "60\n"
     ]
    }
   ],
   "source": [
    "i=0\n",
    "while i<len(ForceData):\n",
    "    print(ForceData[i])\n",
    "    i = i+1\n",
    "    \n",
    "# Input ForceData into LU decomp #"
   ]
  },
  {
   "cell_type": "code",
   "execution_count": 28,
   "metadata": {},
   "outputs": [],
   "source": []
  },
  {
   "cell_type": "code",
   "execution_count": 27,
   "metadata": {
    "collapsed": true
   },
   "outputs": [],
   "source": [
    "import pprint\n",
    "import scipy\n",
    "import scipy.linalg   # SciPy Linear Algebra Library\n"
   ]
  },
  {
   "cell_type": "code",
   "execution_count": 25,
   "metadata": {},
   "outputs": [
    {
     "name": "stdout",
     "output_type": "stream",
     "text": [
      "A:\n",
      "array([[ 0.866,  0.   , -0.5  ,  0.   ,  0.   ,  0.   ],\n",
      "       [ 0.5  ,  0.   ,  0.866,  0.   ,  0.   ,  0.   ],\n",
      "       [-0.866, -1.   ,  0.   , -1.   ,  0.   ,  0.   ],\n",
      "       [-0.5  ,  0.   ,  0.   ,  0.   , -1.   ,  0.   ],\n",
      "       [ 0.   ,  1.   ,  0.5  ,  0.   ,  0.   ,  0.   ],\n",
      "       [ 0.   ,  0.   ,  0.866,  0.   ,  0.   , -1.   ]])\n",
      "P:\n",
      "array([[ 1.,  0.,  0.,  0.,  0.,  0.],\n",
      "       [ 0.,  0.,  1.,  0.,  0.,  0.],\n",
      "       [ 0.,  1.,  0.,  0.,  0.,  0.],\n",
      "       [ 0.,  0.,  0.,  0.,  1.,  0.],\n",
      "       [ 0.,  0.,  0.,  1.,  0.,  0.],\n",
      "       [ 0.,  0.,  0.,  0.,  0.,  1.]])\n",
      "L:\n",
      "array([[  1.00000000e+00,   0.00000000e+00,   0.00000000e+00,\n",
      "          0.00000000e+00,   0.00000000e+00,   0.00000000e+00],\n",
      "       [ -1.00000000e+00,   1.00000000e+00,   0.00000000e+00,\n",
      "          0.00000000e+00,   0.00000000e+00,   0.00000000e+00],\n",
      "       [  5.77367206e-01,  -0.00000000e+00,   1.00000000e+00,\n",
      "          0.00000000e+00,   0.00000000e+00,   0.00000000e+00],\n",
      "       [  0.00000000e+00,  -1.00000000e+00,   4.80747723e-17,\n",
      "          1.00000000e+00,   0.00000000e+00,   0.00000000e+00],\n",
      "       [ -5.77367206e-01,  -0.00000000e+00,  -2.50011000e-01,\n",
      "         -0.00000000e+00,   1.00000000e+00,   0.00000000e+00],\n",
      "       [  0.00000000e+00,  -0.00000000e+00,   7.49989000e-01,\n",
      "         -0.00000000e+00,  -0.00000000e+00,   1.00000000e+00]])\n",
      "U:\n",
      "array([[ 0.866    ,  0.       , -0.5      ,  0.       ,  0.       ,  0.       ],\n",
      "       [ 0.       , -1.       , -0.5      , -1.       ,  0.       ,  0.       ],\n",
      "       [ 0.       ,  0.       ,  1.1546836,  0.       ,  0.       ,  0.       ],\n",
      "       [ 0.       ,  0.       ,  0.       , -1.       ,  0.       ,  0.       ],\n",
      "       [ 0.       ,  0.       ,  0.       ,  0.       , -1.       ,  0.       ],\n",
      "       [ 0.       ,  0.       ,  0.       ,  0.       ,  0.       , -1.       ]])\n"
     ]
    }
   ],
   "source": [
    "A = scipy.array([ [0.866, 0, -.5, 0, 0, 0], [.5, 0, .866, 0, 0, 0], [-.866, -1, 0, -1, 0, 0], [-.5, 0, 0, 0, -1, 0], [0, 1, .5, 0, 0, 0], [0, 0, .866, 0, 0, -1]])\n",
    "P, L, U = scipy.linalg.lu(A)\n",
    "\n",
    "print (\"A:\")\n",
    "pprint.pprint(A)\n",
    "\n",
    "print (\"P:\")\n",
    "pprint.pprint(P)\n",
    "\n",
    "print (\"L:\")\n",
    "pprint.pprint(L)\n",
    "\n",
    "print (\"U:\")\n",
    "pprint.pprint(U)"
   ]
  },
  {
   "cell_type": "code",
   "execution_count": null,
   "metadata": {
    "collapsed": true
   },
   "outputs": [],
   "source": []
  }
 ],
 "metadata": {
  "kernelspec": {
   "display_name": "Python 3",
   "language": "python",
   "name": "python3"
  },
  "language_info": {
   "codemirror_mode": {
    "name": "ipython",
    "version": 3
   },
   "file_extension": ".py",
   "mimetype": "text/x-python",
   "name": "python",
   "nbconvert_exporter": "python",
   "pygments_lexer": "ipython3",
   "version": "3.6.3"
  }
 },
 "nbformat": 4,
 "nbformat_minor": 2
}
