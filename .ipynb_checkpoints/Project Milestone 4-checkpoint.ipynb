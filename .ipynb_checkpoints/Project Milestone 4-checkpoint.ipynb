{
 "cells": [
  {
   "cell_type": "code",
   "execution_count": null,
   "metadata": {
    "collapsed": true
   },
   "outputs": [],
   "source": []
  },
  {
   "cell_type": "code",
   "execution_count": null,
   "metadata": {
    "collapsed": true
   },
   "outputs": [],
   "source": []
  },
  {
   "cell_type": "code",
   "execution_count": null,
   "metadata": {
    "collapsed": true
   },
   "outputs": [],
   "source": []
  },
  {
   "cell_type": "code",
   "execution_count": 26,
   "metadata": {
    "collapsed": true
   },
   "outputs": [],
   "source": [
    "# -*- coding: utf-8 -*-"
   ]
  },
  {
   "cell_type": "code",
   "execution_count": 2,
   "metadata": {
    "collapsed": true
   },
   "outputs": [],
   "source": [
    "def repeat():\n",
    "\n",
    "    question= \"At what point did the force occur?\"\n",
    "    print (question)\n",
    "    answer = int(input(\"Enter a Number: \"))\n",
    "    PointData.append(answer)\n",
    "\n",
    "    print (\"Great! What was the value of your force?\")\n",
    "    answer2 = int(input(\"Enter a Number: \"))\n",
    "    ForceData.append(answer2)\n",
    "\n",
    "    print (\"What direction did your force occur (in degrees, clockwise from the positive x axis)?\")\n",
    "    answer3= int(input(\"Enter a Number: \"))\n",
    "    AngleData.append(answer3)\n",
    "\n",
    "    print (\"Are there more forces?\")\n",
    "    cont = input(\"y,n: \")\n",
    "\n",
    "    if cont == \"n\":\n",
    "        print (\"Calculating...\")\n",
    "        \n",
    "    else:\n",
    "        repeat()\n",
    "    \n",
    "    \n",
    "\n"
   ]
  },
  {
   "cell_type": "code",
   "execution_count": 3,
   "metadata": {
    "scrolled": true
   },
   "outputs": [
    {
     "name": "stdout",
     "output_type": "stream",
     "text": [
      "At what point did the force occur?\n",
      "Enter a Number: 1\n",
      "Great! What was the value of your force?\n",
      "Enter a Number: 100\n",
      "What direction did your force occur (in degrees, clockwise from the positive x axis)?\n",
      "Enter a Number: 90\n",
      "Are there more forces?\n",
      "y,n: y\n",
      "At what point did the force occur?\n",
      "Enter a Number: 2\n",
      "Great! What was the value of your force?\n",
      "Enter a Number: 200\n",
      "What direction did your force occur (in degrees, clockwise from the positive x axis)?\n",
      "Enter a Number: 270\n",
      "Are there more forces?\n",
      "y,n: n\n",
      "[1, 2]\n",
      "[100, 200]\n",
      "[90, 270]\n",
      "Calculating...\n"
     ]
    }
   ],
   "source": [
    "# Forces input #\n",
    "\n",
    "PointData = []\n",
    "ForceData = []\n",
    "AngleData = []\n",
    "\n",
    "# Force at a point #\n",
    "question = \"At what point did the force occur?\"\n",
    "print (question)\n",
    "answer = int(input(\"Enter a Number: \")) \n",
    "PointData.append(answer)\n",
    "\n",
    "# Value of the force #\n",
    "print (\"Great! What was the value of your force?\")\n",
    "answer2 = int(input(\"Enter a Number: \"))\n",
    "ForceData.append(answer2)\n",
    "\n",
    "# Force's Angle #\n",
    "print (\"What direction did your force occur (in degrees, clockwise from the positive x axis)?\")\n",
    "answer3 = int(input(\"Enter a Number: \"))\n",
    "AngleData.append(answer3)\n",
    "\n",
    "# Repeat #\n",
    "print (\"Are there more forces?\")\n",
    "cont = input(\"y,n: \")\n",
    "if cont == \"n\":\n",
    "    print (\"Calculating...\")\n",
    "else:\n",
    "    repeat()\n",
    "   \n",
    "    \n",
    "    "
   ]
  },
  {
   "cell_type": "code",
   "execution_count": 38,
   "metadata": {},
   "outputs": [
    {
     "name": "stdout",
     "output_type": "stream",
     "text": [
      "Force number 1 has a location, force, and angle of: \n",
      "Point 1 , 100 N , 90 °\n",
      "------------------------\n",
      "Force number 2 has a location, force, and angle of: \n",
      "Point 2 , 200 N , 270 °\n",
      "------------------------\n"
     ]
    }
   ],
   "source": [
    "i=0\n",
    "while i < len(PointData):\n",
    "    \n",
    "    print(\"Force number\" ,i + 1,\"has a location, force, and angle of: \")\n",
    "    print(\"Point\", PointData[i],\",\", ForceData[i],\"N\",\",\",AngleData[i], \"\\u00B0\")\n",
    "\n",
    "    print(\"------------------------\")\n",
    "    i = i + 1\n",
    "        \n",
    "# Plan to use data gathered in user input to plug into equation for solving truss #"
   ]
  },
  {
   "cell_type": "code",
   "execution_count": null,
   "metadata": {
    "collapsed": true
   },
   "outputs": [],
   "source": []
  },
  {
   "cell_type": "code",
   "execution_count": null,
   "metadata": {
    "collapsed": true
   },
   "outputs": [],
   "source": []
  }
 ],
 "metadata": {
  "kernelspec": {
   "display_name": "Python 3",
   "language": "python",
   "name": "python3"
  },
  "language_info": {
   "codemirror_mode": {
    "name": "ipython",
    "version": 3
   },
   "file_extension": ".py",
   "mimetype": "text/x-python",
   "name": "python",
   "nbconvert_exporter": "python",
   "pygments_lexer": "ipython3",
   "version": "3.6.3"
  }
 },
 "nbformat": 4,
 "nbformat_minor": 2
}
