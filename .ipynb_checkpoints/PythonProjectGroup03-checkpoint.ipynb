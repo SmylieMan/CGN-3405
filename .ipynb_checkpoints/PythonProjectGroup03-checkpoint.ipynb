{
 "cells": [
  {
   "cell_type": "code",
   "execution_count": 90,
   "metadata": {
    "collapsed": true
   },
   "outputs": [],
   "source": [
    "from math import cos, sin, radians"
   ]
  },
  {
   "cell_type": "code",
   "execution_count": 91,
   "metadata": {
    "collapsed": true
   },
   "outputs": [],
   "source": [
    "import scipy\n",
    "import pprint\n",
    "import scipy.linalg"
   ]
  },
  {
   "cell_type": "code",
   "execution_count": 92,
   "metadata": {
    "collapsed": true
   },
   "outputs": [],
   "source": [
    "def LUdecompy(A):\n",
    "    n = lem(A)\n",
    "    for k in range(0, n-1):\n",
    "        for i in range(k_1,n):\n",
    "            if A[i,k] !=0.0:\n",
    "                lam = a [i,k]/A[k,k]\n",
    "                A[i,k+1:n] = A[i,k+1:n] - lam*A[k,k+1:n]\n",
    "                A[i,k] = lam\n",
    "    return A"
   ]
  },
  {
   "cell_type": "code",
   "execution_count": 93,
   "metadata": {
    "collapsed": true
   },
   "outputs": [],
   "source": [
    "def LUsolve(A,B):\n",
    "    n = len(A)\n",
    "    for k in range(1,n):\n",
    "        B[k] = b[k] - dot(A[k,0:k],b[0:k])\n",
    "    for k in range(n-1,-1,-1):\n",
    "        B[k] = (B[k] - dot(A[k,k+1:n],B[k+1:n]))/A[k,k]\n",
    "    return B"
   ]
  },
  {
   "cell_type": "code",
   "execution_count": 94,
   "metadata": {
    "scrolled": true
   },
   "outputs": [
    {
     "name": "stdout",
     "output_type": "stream",
     "text": [
      "30 degrees = 0.5235987755982988 radians\n",
      "60 degrees = 1.0471975511965976 radians\n"
     ]
    }
   ],
   "source": [
    "r30 = radians(30)\n",
    "r60 = radians(60)\n",
    "print(\"30 degrees = {0} radians\".format(r30))\n",
    "print(\"60 degrees = {0} radians\".format(r60))"
   ]
  },
  {
   "cell_type": "code",
   "execution_count": 95,
   "metadata": {
    "scrolled": true
   },
   "outputs": [
    {
     "name": "stdout",
     "output_type": "stream",
     "text": [
      "A:\n",
      "array([[ 0.87,  0.0, -0.5,  0.0,  0.0,  0.0],\n",
      "       [ 0.5,  0.0,  0.87,  0.0,  0.0,  0.0],\n",
      "       [-0.87, -1.0,  0.0, -1.0,  0.0,  0.0],\n",
      "       [-0.5,  0.0,  0.0,  0.0, -1.0,  0.0],\n",
      "       [ 0.0,  1.0,  0.5,  0.0,  0.0,  0.0],\n",
      "       [ 0.0,  0.0,  0.87,  0.0,  0.0, -1.0]])\n",
      "P:\n",
      "array([[ 1.0,  0.0,  0.0,  0.0,  0.0,  0.0],\n",
      "       [ 0.0,  0.0,  1.0,  0.0,  0.0,  0.0],\n",
      "       [ 0.0,  1.0,  0.0,  0.0,  0.0,  0.0],\n",
      "       [ 0.0,  0.0,  0.0,  0.0,  1.0,  0.0],\n",
      "       [ 0.0,  0.0,  0.0,  1.0,  0.0,  0.0],\n",
      "       [ 0.0,  0.0,  0.0,  0.0,  0.0,  1.0]])\n",
      "L:\n",
      "array([[ 1.0,  0.0,  0.0,  0.0,  0.0,  0.0],\n",
      "       [-1.0,  1.0,  0.0,  0.0,  0.0,  0.0],\n",
      "       [ 0.58, -0.0,  1.0,  0.0,  0.0,  0.0],\n",
      "       [ 0.0, -1.0,  0.0,  1.0,  0.0,  0.0],\n",
      "       [-0.58, -0.0, -0.25, -0.0,  1.0,  0.0],\n",
      "       [ 0.0, -0.0,  0.75, -0.0, -0.0,  1.0]])\n",
      "U:\n",
      "array([[ 0.87,  0.0, -0.5,  0.0,  0.0,  0.0],\n",
      "       [ 0.0, -1.0, -0.5, -1.0,  0.0,  0.0],\n",
      "       [ 0.0,  0.0,  1.2,  0.0,  0.0,  0.0],\n",
      "       [ 0.0,  0.0,  0.0, -1.0,  0.0,  0.0],\n",
      "       [ 0.0,  0.0,  0.0,  0.0, -1.0,  0.0],\n",
      "       [ 0.0,  0.0,  0.0,  0.0,  0.0, -1.0]])\n"
     ]
    }
   ],
   "source": [
    "A = scipy.array([[cos(r30), 0, -sin(r30), 0, 0, 0], [sin(r30), 0, cos(r30), 0, 0, 0], [-cos(r30), -1, 0, -1, 0, 0], [-sin(r30), 0, 0, 0, -1, 0], [0, 1, sin(r30), 0, 0, 0], [0, 0, cos(r30), 0, 0, -1]])\n",
    "P, L, U = scipy.linalg.lu(A)\n",
    "\n",
    "print (\"A:\")\n",
    "pprint.pprint(A)\n",
    "\n",
    "print (\"P:\")\n",
    "pprint.pprint(P)\n",
    "\n",
    "print (\"L:\")\n",
    "pprint.pprint(L)\n",
    "\n",
    "print (\"U:\")\n",
    "pprint.pprint(U)"
   ]
  },
  {
   "cell_type": "code",
   "execution_count": null,
   "metadata": {
    "collapsed": true
   },
   "outputs": [],
   "source": []
  },
  {
   "cell_type": "code",
   "execution_count": 96,
   "metadata": {},
   "outputs": [
    {
     "data": {
      "text/plain": [
       "array([[ 0.87,  0.0, -0.5,  0.0,  0.0,  0.0],\n",
       "       [ 0.5,  0.0,  0.87,  0.0,  0.0,  0.0],\n",
       "       [-0.87, -1.0,  0.0, -1.0,  0.0,  0.0],\n",
       "       [-0.5,  0.0,  0.0,  0.0, -1.0,  0.0],\n",
       "       [ 0.0,  1.0,  0.5,  0.0,  0.0,  0.0],\n",
       "       [ 0.0,  0.0,  0.87,  0.0,  0.0, -1.0]])"
      ]
     },
     "execution_count": 96,
     "metadata": {},
     "output_type": "execute_result"
    }
   ],
   "source": [
    "scipy.set_printoptions(formatter={'float': '{: 0.2}'.format})\n",
    "A"
   ]
  },
  {
   "cell_type": "code",
   "execution_count": 97,
   "metadata": {
    "collapsed": true
   },
   "outputs": [],
   "source": [
    "#To input values, change values in the B array below\n",
    "B = scipy.array([1000, 0, 1000, 0, 0, 0]) #F1x, F1y, F2x, F2y, F3x, F3y\n",
    "xNames = ['F1', 'F2', 'F3', 'H2', 'V2', 'V3']"
   ]
  },
  {
   "cell_type": "code",
   "execution_count": 98,
   "metadata": {
    "scrolled": true
   },
   "outputs": [
    {
     "name": "stdout",
     "output_type": "stream",
     "text": [
      "[ 8.7e+02  2.5e+02 -5e+02 -2e+03 -4.3e+02 -4.3e+02] [[ 8.7e+02]\n",
      " [ 2.5e+02]\n",
      " [-5e+02]\n",
      " [-2e+03]\n",
      " [-4.3e+02]\n",
      " [-4.3e+02]]\n"
     ]
    }
   ],
   "source": [
    "xScipy = scipy.around(scipy.linalg.solve(A,B).reshape(6,1),2)\n",
    "xDiv = scipy.matmul(scipy.linalg.inv(A),B)\n",
    "print(xDiv,xScipy)"
   ]
  },
  {
   "cell_type": "code",
   "execution_count": 99,
   "metadata": {},
   "outputs": [
    {
     "name": "stdout",
     "output_type": "stream",
     "text": [
      "F1 = 866.0254037844387 = 866.03\n",
      "F2 = 249.99999999999991 = 250.0\n",
      "F3 = -499.9999999999999 = -500.0\n",
      "H2 = -2000.0 = -2000.0\n",
      "V2 = -433.0127018922193 = -433.01\n",
      "V3 = -433.0127018922193 = -433.01\n"
     ]
    }
   ],
   "source": [
    "for i in zip(xNames, xDiv, xScipy):\n",
    "    print('{0} = {1} = {2}' .format(i[0], i[1], i[2][0]))"
   ]
  },
  {
   "cell_type": "code",
   "execution_count": 100,
   "metadata": {},
   "outputs": [
    {
     "name": "stdout",
     "output_type": "stream",
     "text": [
      "F1 = 866.03\n",
      "F2 = 250.0\n",
      "F3 = -500.0\n",
      "H2 = -2000.0\n",
      "V2 = -433.01\n",
      "V3 = -433.01\n"
     ]
    }
   ],
   "source": [
    "for i in zip(xNames, xDiv, xScipy):\n",
    "    print('{0} = {2}' .format(i[0], i[2], i[2][0]))"
   ]
  },
  {
   "cell_type": "code",
   "execution_count": 101,
   "metadata": {
    "collapsed": true
   },
   "outputs": [],
   "source": [
    "import matplotlib.pyplot as plt; plt.rcdefaults()\n",
    "import numpy as np\n",
    "import matplotlib.pyplot as plt"
   ]
  },
  {
   "cell_type": "code",
   "execution_count": 102,
   "metadata": {},
   "outputs": [
    {
     "data": {
      "image/png": "[encoded data removed]",
      "text/plain": [
       "<matplotlib.figure.Figure at 0x1fb6a700748>"
      ]
     },
     "metadata": {},
     "output_type": "display_data"
    }
   ],
   "source": [
    "resultants = ('F1', 'F2', 'F3', 'H2', 'V2', 'V3')\n",
    "performance = [866, 250, -500, -2000, -433, -433]\n",
    " \n",
    "plt.bar(y, performance, align='center', alpha=1.0)\n",
    "plt.xticks(y, resultants)\n",
    "plt.ylabel('Force Value')\n",
    "plt.title('Resultant Force Distribution')\n",
    " \n",
    "plt.show()"
   ]
  },
  {
   "cell_type": "code",
   "execution_count": null,
   "metadata": {
    "collapsed": true
   },
   "outputs": [],
   "source": []
  }
 ],
 "metadata": {
  "kernelspec": {
   "display_name": "Python 3",
   "language": "python",
   "name": "python3"
  },
  "language_info": {
   "codemirror_mode": {
    "name": "ipython",
    "version": 3
   },
   "file_extension": ".py",
   "mimetype": "text/x-python",
   "name": "python",
   "nbconvert_exporter": "python",
   "pygments_lexer": "ipython3",
   "version": "3.6.3"
  }
 },
 "nbformat": 4,
 "nbformat_minor": 2
}
