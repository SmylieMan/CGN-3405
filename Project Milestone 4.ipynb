{
 "cells": [
  {
   "cell_type": "code",
   "execution_count": 20,
   "metadata": {},
   "outputs": [
    {
     "name": "stdout",
     "output_type": "stream",
     "text": [
      "At what point did the force occur?\n",
      "Enter a Number:1\n",
      "Great! What was the value of your force?\n",
      "Enter a Number:200\n",
      "What direction did your force occur (in degrees, clockwise from the positive x axis)?\n",
      "Enter a Number: 0\n",
      "Are there more forces?\n",
      "y,ny\n",
      "Enter more Data\n"
     ]
    }
   ],
   "source": [
    "question = \"At what point did the force occur?\"\n",
    "print (question)\n",
    "answer = input(\"Enter a Number:\")\n",
    "print (\"Great! What was the value of your force?\")\n",
    "answer2 = input(\"Enter a Number:\")\n",
    "print (\"What direction did your force occur (in degrees, clockwise from the positive x axis)?\")\n",
    "answer3 = int(input(\"Enter a Number: \"))\n",
    "print (\"Are there more forces?\")\n",
    "cont = input(\"y,n\")\n",
    "if cont == \"n\":\n",
    "    print (\"Calculating\")\n",
    "else:\n",
    "    print (\"Enter more Data\")"
   ]
  },
  {
   "cell_type": "markdown",
   "metadata": {
    "collapsed": true
   },
   "source": []
  },
  {
   "cell_type": "code",
   "execution_count": null,
   "metadata": {
    "collapsed": true
   },
   "outputs": [],
   "source": []
  }
 ],
 "metadata": {
  "kernelspec": {
   "display_name": "Python 3",
   "language": "python",
   "name": "python3"
  },
  "language_info": {
   "codemirror_mode": {
    "name": "ipython",
    "version": 3
   },
   "file_extension": ".py",
   "mimetype": "text/x-python",
   "name": "python",
   "nbconvert_exporter": "python",
   "pygments_lexer": "ipython3",
   "version": "3.6.3"
  }
 },
 "nbformat": 4,
 "nbformat_minor": 2
}
