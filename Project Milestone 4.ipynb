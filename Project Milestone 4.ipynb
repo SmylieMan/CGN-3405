{
 "cells": [
  {
   "cell_type": "code",
   "execution_count": null,
   "metadata": {},
   "outputs": [],
   "source": []
  },
  {
   "cell_type": "code",
   "execution_count": null,
   "metadata": {},
   "outputs": [],
   "source": []
  },
  {
   "cell_type": "code",
   "execution_count": null,
   "metadata": {},
   "outputs": [],
   "source": []
  },
  {
   "cell_type": "code",
   "execution_count": 1,
   "metadata": {},
   "outputs": [],
   "source": [
    "PointData = []\n",
    "ForceData = []\n",
    "AngleData = []"
   ]
  },
  {
   "cell_type": "code",
   "execution_count": 4,
   "metadata": {},
   "outputs": [],
   "source": [
    "def repeat():\n",
    "\n",
    "    question= \"At what point did the force occur?\"\n",
    "    print (question)\n",
    "    answer = input(\"Enter a Number:\")\n",
    "    PointData.append(answer)\n",
    "\n",
    "    print (\"Great! What was the value of your force?\")\n",
    "    answer2 = input(\"Enter a Number:\")\n",
    "    ForceData.append(answer2)\n",
    "\n",
    "    print (\"What direction did your force occur (in degrees, clockwise from the positive x axis)?\")\n",
    "    answer3 = int(input(\"Enter a Number: \"))\n",
    "    AngleData.append(answer3)\n",
    "\n",
    "    print (\"Are there more forces?\")\n",
    "    cont = input(\"y,n: \")\n",
    "\n",
    "    if cont == \"n\":\n",
    "        print (PointData)\n",
    "    \n",
    "    else:\n",
    "        repeat()\n",
    "    \n",
    "    \n",
    "\n"
   ]
  },
  {
   "cell_type": "code",
   "execution_count": 5,
   "metadata": {
    "scrolled": true
   },
   "outputs": [
    {
     "name": "stdout",
     "output_type": "stream",
     "text": [
      "At what point did the force occur?\n",
      "Enter a Number:10\n",
      "Great! What was the value of your force?\n",
      "Enter a Number:10\n",
      "What direction did your force occur (in degrees, clockwise from the positive x axis)?\n",
      "Enter a Number: 10\n",
      "Are there more forces?\n",
      "y,n: y\n",
      "At what point did the force occur?\n",
      "Enter a Number:10\n",
      "Great! What was the value of your force?\n",
      "Enter a Number:10\n",
      "What direction did your force occur (in degrees, clockwise from the positive x axis)?\n",
      "Enter a Number: 10\n",
      "Are there more forces?\n",
      "y,n: n\n",
      "['10', '10']\n"
     ]
    }
   ],
   "source": [
    "# Forces input #\n",
    "\n",
    "question = \"At what point did the force occur?\"\n",
    "print (question)\n",
    "answer = input(\"Enter a Number:\")\n",
    "PointData.append(answer)\n",
    "\n",
    "print (\"Great! What was the value of your force?\")\n",
    "answer2 = input(\"Enter a Number:\")\n",
    "ForceData.append(answer2)\n",
    "\n",
    "print (\"What direction did your force occur (in degrees, clockwise from the positive x axis)?\")\n",
    "answer3 = int(input(\"Enter a Number: \"))\n",
    "AngleData.append(answer3)\n",
    "\n",
    "print (\"Are there more forces?\")\n",
    "cont = input(\"y,n: \")\n",
    "if cont == \"n\":\n",
    "    print (PointData)\n",
    "    \n",
    "else:\n",
    "    repeat()\n",
    "    \n",
    "   \n",
    "    \n",
    "    "
   ]
  },
  {
   "cell_type": "markdown",
   "metadata": {
    "collapsed": true
   },
   "source": []
  },
  {
   "cell_type": "code",
   "execution_count": null,
   "metadata": {},
   "outputs": [],
   "source": []
  }
 ],
 "metadata": {
  "kernelspec": {
   "display_name": "Python 3",
   "language": "python",
   "name": "python3"
  },
  "language_info": {
   "codemirror_mode": {
    "name": "ipython",
    "version": 3
   },
   "file_extension": ".py",
   "mimetype": "text/x-python",
   "name": "python",
   "nbconvert_exporter": "python",
   "pygments_lexer": "ipython3",
   "version": "3.6.4"
  }
 },
 "nbformat": 4,
 "nbformat_minor": 2
}
