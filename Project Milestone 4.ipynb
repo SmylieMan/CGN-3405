{
 "cells": [
  {
   "cell_type": "code",
   "execution_count": null,
   "metadata": {
    "collapsed": true
   },
   "outputs": [],
   "source": [
    "import "
   ]
  },
  {
   "cell_type": "code",
   "execution_count": null,
   "metadata": {
    "collapsed": true
   },
   "outputs": [],
   "source": []
  },
  {
   "cell_type": "code",
   "execution_count": null,
   "metadata": {
    "collapsed": true
   },
   "outputs": [],
   "source": []
  },
  {
   "cell_type": "code",
   "execution_count": null,
   "metadata": {
    "collapsed": true
   },
   "outputs": [],
   "source": []
  },
  {
   "cell_type": "code",
   "execution_count": 1,
   "metadata": {
    "collapsed": true
   },
   "outputs": [],
   "source": [
    "def repeat():\n",
    "\n",
    "    question= \"At what point did the force occur?\"\n",
    "    print (question)\n",
    "    answer = int(input(\"Enter a Number: \"))\n",
    "    PointData.append(answer)\n",
    " \n",
    "    print (\"Great! What was the value of your force (in Newtons)?\")\n",
    "    answer2 = int(input(\"Enter a Number: \"))\n",
    "    ForceData.append(answer2)\n",
    "\n",
    "    print (\"What direction did your force occur (in degrees, clockwise from the positive x axis)?\")\n",
    "    answer3= int(input(\"Enter a Number: \"))\n",
    "    AngleData.append(answer3)\n",
    "\n",
    "    print (\"Are there more forces?\")\n",
    "    cont = input(\"y,n: \")\n",
    "\n",
    "    if cont == \"n\":\n",
    "        print (\"Calculating...\")\n",
    "        \n",
    "    else:\n",
    "        repeat()"
   ]
  },
  {
   "cell_type": "code",
   "execution_count": 2,
   "metadata": {
    "scrolled": true
   },
   "outputs": [
    {
     "name": "stdout",
     "output_type": "stream",
     "text": [
      "At what point did the force occur?\n",
      "Enter a Number: 1\n",
      "Great! What was the value of your force (in Newtons)?\n",
      "Enter a Number: 200\n",
      "What direction did your force occur (in degrees, clockwise from the positive x axis)?\n",
      "Enter a Number: 90\n",
      "Are there more forces?\n",
      "y,n: y\n",
      "At what point did the force occur?\n",
      "Enter a Number: 2\n",
      "Great! What was the value of your force (in Newtons)?\n",
      "Enter a Number: 300\n",
      "What direction did your force occur (in degrees, clockwise from the positive x axis)?\n",
      "Enter a Number: 270\n",
      "Are there more forces?\n",
      "y,n: n\n",
      "Calculating...\n"
     ]
    }
   ],
   "source": [
    "# Forces input #\n",
    "\n",
    "PointData = []\n",
    "ForceData = []\n",
    "AngleData = []\n",
    "\n",
    "# Force at a point #\n",
    "question = \"At what point did the force occur?\"\n",
    "print (question)\n",
    "answer = int(input(\"Enter a Number: \")) \n",
    "PointData.append(answer)\n",
    "\n",
    "# Value of the force #\n",
    "print (\"Great! What was the value of your force (in Newtons)?\")\n",
    "answer2 = int(input(\"Enter a Number: \"))\n",
    "ForceData.append(answer2)\n",
    "\n",
    "# Force's Angle #\n",
    "print (\"What direction did your force occur (in degrees, clockwise from the positive x axis)?\")\n",
    "answer3 = int(input(\"Enter a Number: \"))\n",
    "AngleData.append(answer3)\n",
    "\n",
    "# Repeat #\n",
    "print (\"Are there more forces?\")\n",
    "cont = input(\"y,n: \")\n",
    "if cont == \"n\":\n",
    "    print(\"Calculating...\")\n",
    "else:\n",
    "    repeat()\n",
    "   \n",
    "    \n",
    "    "
   ]
  },
  {
   "cell_type": "code",
   "execution_count": 7,
   "metadata": {},
   "outputs": [
    {
     "name": "stdout",
     "output_type": "stream",
     "text": [
      "Force number 1 has a location, force, and angle of: \n",
      "Point 1 , 200 N , 90 °\n",
      "------------------------\n",
      "Force number 2 has a location, force, and angle of: \n",
      "Point 2 , 300 N , 270 °\n",
      "------------------------\n"
     ]
    }
   ],
   "source": [
    "q=0\n",
    "while q < len(PointData):\n",
    "    \n",
    "    print(\"Force number\" ,q + 1,\"has a location, force, and angle of: \")\n",
    "    print(\"Point\", PointData[q],\",\", ForceData[q],\"N\",\",\",AngleData[q], \"\\u00B0\")\n",
    "\n",
    "    print(\"------------------------\")\n",
    "    q = q + 1\n",
    "        \n",
    "# Use this Data in order to plug into equation #"
   ]
  },
  {
   "cell_type": "code",
   "execution_count": 9,
   "metadata": {},
   "outputs": [
    {
     "ename": "IndentationError",
     "evalue": "unexpected indent (<ipython-input-9-76ec30fa1827>, line 6)",
     "output_type": "error",
     "traceback": [
      "\u001b[1;36m  File \u001b[1;32m\"<ipython-input-9-76ec30fa1827>\"\u001b[1;36m, line \u001b[1;32m6\u001b[0m\n\u001b[1;33m    i=i+1\u001b[0m\n\u001b[1;37m    ^\u001b[0m\n\u001b[1;31mIndentationError\u001b[0m\u001b[1;31m:\u001b[0m unexpected indent\n"
     ]
    }
   ],
   "source": [
    "i=0\n",
    "    \n",
    "    \n",
    "    #Start creating matrix which solves the LU Decomposition#\n",
    "\n",
    "i=i+1"
   ]
  },
  {
   "cell_type": "code",
   "execution_count": null,
   "metadata": {
    "collapsed": true
   },
   "outputs": [],
   "source": []
  }
 ],
 "metadata": {
  "kernelspec": {
   "display_name": "Python 3",
   "language": "python",
   "name": "python3"
  },
  "language_info": {
   "codemirror_mode": {
    "name": "ipython",
    "version": 3
   },
   "file_extension": ".py",
   "mimetype": "text/x-python",
   "name": "python",
   "nbconvert_exporter": "python",
   "pygments_lexer": "ipython3",
   "version": "3.6.3"
  }
 },
 "nbformat": 4,
 "nbformat_minor": 2
}
