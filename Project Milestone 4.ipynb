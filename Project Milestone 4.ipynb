{
 "cells": [
  {
   "cell_type": "code",
   "execution_count": null,
   "metadata": {
    "collapsed": true
   },
   "outputs": [],
   "source": []
  },
  {
   "cell_type": "code",
   "execution_count": 14,
   "metadata": {},
   "outputs": [
    {
     "ename": "SyntaxError",
     "evalue": "invalid syntax (<ipython-input-14-8f71c1d86041>, line 1)",
     "output_type": "error",
     "traceback": [
      "\u001b[1;36m  File \u001b[1;32m\"<ipython-input-14-8f71c1d86041>\"\u001b[1;36m, line \u001b[1;32m1\u001b[0m\n\u001b[1;33m    let Force1=F1\u001b[0m\n\u001b[1;37m             ^\u001b[0m\n\u001b[1;31mSyntaxError\u001b[0m\u001b[1;31m:\u001b[0m invalid syntax\n"
     ]
    }
   ],
   "source": []
  },
  {
   "cell_type": "code",
   "execution_count": null,
   "metadata": {
    "collapsed": true
   },
   "outputs": [],
   "source": []
  },
  {
   "cell_type": "code",
   "execution_count": null,
   "metadata": {
    "collapsed": true
   },
   "outputs": [],
   "source": []
  },
  {
   "cell_type": "code",
   "execution_count": 44,
   "metadata": {
    "collapsed": true
   },
   "outputs": [],
   "source": [
    "def repeat():\n",
    "\n",
    "    question= \"At what point did the force occur?\"\n",
    "    print (question)\n",
    "    answer = int(input(\"Enter a Number: \"))\n",
    "    PointData.append(answer)\n",
    " \n",
    "    print (\"Great! What was the value of your force (in Newtons)?\")\n",
    "    answer2 = int(input(\"Enter a Number: \"))\n",
    "    ForceData.append(answer2)\n",
    "\n",
    "    print (\"What direction did your force occur (in degrees, clockwise from the positive x axis)?\")\n",
    "    answer3= int(input(\"Enter a Number: \"))\n",
    "    AngleData.append(answer3)\n",
    "\n",
    "    print (\"Are there more forces?\")\n",
    "    cont = input(\"y,n: \")\n",
    "\n",
    "    if cont == \"n\":\n",
    "        print (\"Calculating...\")\n",
    "        \n",
    "    else:\n",
    "        repeat()"
   ]
  },
  {
   "cell_type": "code",
   "execution_count": 47,
   "metadata": {
    "scrolled": true
   },
   "outputs": [
    {
     "name": "stdout",
     "output_type": "stream",
     "text": [
      "At what point did the force occur?\n",
      "Enter a Number: 1\n",
      "Great! What was the value of your force (in Newtons)?\n",
      "Enter a Number: 200\n",
      "What direction did your force occur (in degrees, clockwise from the positive x axis)?\n",
      "Enter a Number: 30\n",
      "Are there more forces?\n",
      "y,n: y\n",
      "At what point did the force occur?\n",
      "Enter a Number: 2\n",
      "Great! What was the value of your force (in Newtons)?\n",
      "Enter a Number: 400\n",
      "What direction did your force occur (in degrees, clockwise from the positive x axis)?\n",
      "Enter a Number: 25\n",
      "Are there more forces?\n",
      "y,n: n\n",
      "Calculating...\n"
     ]
    }
   ],
   "source": [
    "# Forces input #\n",
    "\n",
    "PointData = []\n",
    "ForceData = []\n",
    "AngleData = []\n",
    "\n",
    "# Force at a point #\n",
    "question = \"At what point did the force occur?\"\n",
    "print (question)\n",
    "answer = int(input(\"Enter a Number: \")) \n",
    "PointData.append(answer)\n",
    "\n",
    "# Value of the force #\n",
    "print (\"Great! What was the value of your force (in Newtons)?\")\n",
    "answer2 = int(input(\"Enter a Number: \"))\n",
    "ForceData.append(answer2)\n",
    "\n",
    "# Force's Angle #\n",
    "print (\"What direction did your force occur (in degrees, clockwise from the positive x axis)?\")\n",
    "answer3 = int(input(\"Enter a Number: \"))\n",
    "AngleData.append(answer3)\n",
    "\n",
    "# Repeat #\n",
    "print (\"Are there more forces?\")\n",
    "cont = input(\"y,n: \")\n",
    "if cont == \"n\":\n",
    "    print(\"Calculating...\")\n",
    "else:\n",
    "    repeat()\n",
    "   \n",
    "    \n",
    "    "
   ]
  },
  {
   "cell_type": "code",
   "execution_count": 48,
   "metadata": {},
   "outputs": [
    {
     "name": "stdout",
     "output_type": "stream",
     "text": [
      "Force number 1 has a location, force, and angle of: \n",
      "Point 1 , 200 N , 30 °\n",
      "------------------------\n",
      "Force number 2 has a location, force, and angle of: \n",
      "Point 2 , 400 N , 25 °\n",
      "------------------------\n"
     ]
    }
   ],
   "source": [
    "i=0\n",
    "while i < len(PointData):\n",
    "    \n",
    "    print(\"Force number\" ,i + 1,\"has a location, force, and angle of: \")\n",
    "    print(\"Point\", PointData[i],\",\", ForceData[i],\"N\",\",\",AngleData[i], \"\\u00B0\")\n",
    "\n",
    "    print(\"------------------------\")\n",
    "    i = i + 1\n",
    "        \n",
    "# Use this Data in order to plug into equation #"
   ]
  },
  {
   "cell_type": "code",
   "execution_count": 7,
   "metadata": {},
   "outputs": [
    {
     "ename": "SyntaxError",
     "evalue": "unexpected EOF while parsing (<ipython-input-7-f942ba4fcfe9>, line 2)",
     "output_type": "error",
     "traceback": [
      "\u001b[1;36m  File \u001b[1;32m\"<ipython-input-7-f942ba4fcfe9>\"\u001b[1;36m, line \u001b[1;32m2\u001b[0m\n\u001b[1;33m    while i < len(PointData):\u001b[0m\n\u001b[1;37m                             ^\u001b[0m\n\u001b[1;31mSyntaxError\u001b[0m\u001b[1;31m:\u001b[0m unexpected EOF while parsing\n"
     ]
    }
   ],
   "source": [
    "i=0\n",
    "while i < len(PointData):\n",
    "    "
   ]
  },
  {
   "cell_type": "code",
   "execution_count": 8,
   "metadata": {},
   "outputs": [],
   "source": [
    "import pprint\n",
    "import scipy\n",
    "import scipy.linalg   # SciPy Linear Algebra Library\n"
   ]
  },
  {
   "cell_type": "code",
   "execution_count": 12,
   "metadata": {},
   "outputs": [
    {
     "name": "stdout",
     "output_type": "stream",
     "text": [
      "A:\n",
      "array([[ 0.866,  0.   , -0.5  ,  0.   ,  0.   ,  0.   ],\n",
      "       [ 0.5  ,  0.   ,  0.866,  0.   ,  0.   ,  0.   ],\n",
      "       [-0.866, -1.   ,  0.   , -1.   ,  0.   ,  0.   ],\n",
      "       [-0.5  ,  0.   ,  0.   ,  0.   , -1.   ,  0.   ],\n",
      "       [ 0.   ,  1.   ,  0.5  ,  0.   ,  0.   ,  0.   ],\n",
      "       [ 0.   ,  0.   ,  0.866,  0.   ,  0.   , -1.   ]])\n",
      "P:\n",
      "array([[1., 0., 0., 0., 0., 0.],\n",
      "       [0., 0., 1., 0., 0., 0.],\n",
      "       [0., 1., 0., 0., 0., 0.],\n",
      "       [0., 0., 0., 0., 1., 0.],\n",
      "       [0., 0., 0., 1., 0., 0.],\n",
      "       [0., 0., 0., 0., 0., 1.]])\n",
      "L:\n",
      "array([[ 1.00000000e+00,  0.00000000e+00,  0.00000000e+00,\n",
      "         0.00000000e+00,  0.00000000e+00,  0.00000000e+00],\n",
      "       [-1.00000000e+00,  1.00000000e+00,  0.00000000e+00,\n",
      "         0.00000000e+00,  0.00000000e+00,  0.00000000e+00],\n",
      "       [ 5.77367206e-01, -0.00000000e+00,  1.00000000e+00,\n",
      "         0.00000000e+00,  0.00000000e+00,  0.00000000e+00],\n",
      "       [ 0.00000000e+00, -1.00000000e+00,  4.80747723e-17,\n",
      "         1.00000000e+00,  0.00000000e+00,  0.00000000e+00],\n",
      "       [-5.77367206e-01, -0.00000000e+00, -2.50011000e-01,\n",
      "        -0.00000000e+00,  1.00000000e+00,  0.00000000e+00],\n",
      "       [ 0.00000000e+00, -0.00000000e+00,  7.49989000e-01,\n",
      "        -0.00000000e+00, -0.00000000e+00,  1.00000000e+00]])\n",
      "U:\n",
      "array([[ 0.866    ,  0.       , -0.5      ,  0.       ,  0.       ,\n",
      "         0.       ],\n",
      "       [ 0.       , -1.       , -0.5      , -1.       ,  0.       ,\n",
      "         0.       ],\n",
      "       [ 0.       ,  0.       ,  1.1546836,  0.       ,  0.       ,\n",
      "         0.       ],\n",
      "       [ 0.       ,  0.       ,  0.       , -1.       ,  0.       ,\n",
      "         0.       ],\n",
      "       [ 0.       ,  0.       ,  0.       ,  0.       , -1.       ,\n",
      "         0.       ],\n",
      "       [ 0.       ,  0.       ,  0.       ,  0.       ,  0.       ,\n",
      "        -1.       ]])\n"
     ]
    }
   ],
   "source": [
    "A = scipy.array([ [0.866, 0, -.5, 0, 0, 0, , 0], [.5, 0, .866, 0, 0, 0, ForceData[1], -1000], [-.866, -1, 0, -1, 0, 0, ForceData[2], 0], [-.5, 0, 0, 0, -1, 0, ], [0, 1, .5, 0, 0, 0], [0, 0, .866, 0, 0, -1]])\n",
    "P, L, U = scipy.linalg.lu(A)\n",
    "\n",
    "print (\"A:\")\n",
    "pprint.pprint(A)\n",
    "\n",
    "print (\"P:\")\n",
    "pprint.pprint(P)\n",
    "\n",
    "print (\"L:\")\n",
    "pprint.pprint(L)\n",
    "\n",
    "print (\"U:\")\n",
    "pprint.pprint(U)"
   ]
  },
  {
   "cell_type": "code",
   "execution_count": null,
   "metadata": {},
   "outputs": [],
   "source": []
  }
 ],
 "metadata": {
  "kernelspec": {
   "display_name": "Python 3",
   "language": "python",
   "name": "python3"
  },
  "language_info": {
   "codemirror_mode": {
    "name": "ipython",
    "version": 3
   },
   "file_extension": ".py",
   "mimetype": "text/x-python",
   "name": "python",
   "nbconvert_exporter": "python",
   "pygments_lexer": "ipython3",
   "version": "3.6.4"
  }
 },
 "nbformat": 4,
 "nbformat_minor": 2
}
